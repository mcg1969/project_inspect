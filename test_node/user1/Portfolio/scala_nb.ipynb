{
 "cells": [],
 "metadata": {
  "kernelspec": {
   "display_name": "Python [conda env:Portfolio-python]",
   "language": "scala",
   "name": "conda-env-Portfolio-python-py"
  },
  "language_info": {
   "codemirror_mode": {
    "name": "iscala",
    "version": 2
   },
   "file_extension": ".sc",
   "mimetype": "text/x-scala",
   "name": "python",
   "nbconvert_exporter": "scala",
   "pygments_lexer": "iscala",
   "version": "2.7.15"
  }
 },
 "nbformat": 4,
 "nbformat_minor": 1
}
