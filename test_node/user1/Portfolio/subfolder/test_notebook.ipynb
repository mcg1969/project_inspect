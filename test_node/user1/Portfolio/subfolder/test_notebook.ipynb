{
 "cells": [
  {
   "cell_type": "code",
   "execution_count": 1,
   "metadata": {
    "collapsed": false,
    "deletable": true,
    "editable": true
   },
   "outputs": [],
   "source": [
    "import matplotlib.pyplot as plt\n",
    "%matplotlib inline"
   ]
  },
  {
   "cell_type": "code",
   "execution_count": 2,
   "metadata": {
    "collapsed": false,
    "deletable": true,
    "editable": true
   },
   "outputs": [
    {
     "data": {
      "text/plain": [
       "[<matplotlib.lines.Line2D at 0x7fcb8836fc50>]"
      ]
     },
     "execution_count": 2,
     "metadata": {},
     "output_type": "execute_result"
    },
    {
     "data": {
      "image/png": "[encoded data removed]",
      "text/plain": [
       "<matplotlib.figure.Figure at 0x7fcb900cb810>"
      ]
     },
     "metadata": {},
     "output_type": "display_data"
    }
   ],
   "source": [
    "plt.plot(1,1)"
   ]
  },
  {
   "cell_type": "code",
   "execution_count": 3,
   "metadata": {
    "collapsed": false,
    "deletable": true,
    "editable": true
   },
   "outputs": [
    {
     "ename": "ImportError",
     "evalue": "No module named localtest",
     "output_type": "error",
     "traceback": [
      "\u001b[0;31m\u001b[0m",
      "\u001b[0;31mImportError\u001b[0mTraceback (most recent call last)",
      "\u001b[0;32m<ipython-input-3-d35db23c506f>\u001b[0m in \u001b[0;36m<module>\u001b[0;34m()\u001b[0m\n\u001b[0;32m----> 1\u001b[0;31m \u001b[0;32mimport\u001b[0m \u001b[0mlocaltest\u001b[0m\u001b[0;34m\u001b[0m\u001b[0m\n\u001b[0m",
      "\u001b[0;31mImportError\u001b[0m: No module named localtest"
     ]
    }
   ],
   "source": [
    "import localtest"
   ]
  },
  {
   "cell_type": "code",
   "execution_count": 4,
   "metadata": {
    "collapsed": false,
    "deletable": true,
    "editable": true
   },
   "outputs": [
    {
     "data": {
      "text/plain": [
       "['',\n",
       " '/projects/mgrant/Portfolio/envs/default/lib/python27.zip',\n",
       " '/projects/mgrant/Portfolio/envs/default/lib/python2.7',\n",
       " '/projects/mgrant/Portfolio/envs/default/lib/python2.7/plat-linux2',\n",
       " '/projects/mgrant/Portfolio/envs/default/lib/python2.7/lib-tk',\n",
       " '/projects/mgrant/Portfolio/envs/default/lib/python2.7/lib-old',\n",
       " '/projects/mgrant/Portfolio/envs/default/lib/python2.7/lib-dynload',\n",
       " '/projects/mgrant/Portfolio/envs/default/lib/python2.7/site-packages/Sphinx-1.5.6-py2.7.egg',\n",
       " '/projects/mgrant/Portfolio/envs/default/lib/python2.7/site-packages',\n",
       " '/projects/mgrant/Portfolio/envs/default/lib/python2.7/site-packages/setuptools-27.2.0-py2.7.egg',\n",
       " '/projects/mgrant/Portfolio/envs/default/lib/python2.7/site-packages/IPython/extensions',\n",
       " '/home/mgrant/.ipython']"
      ]
     },
     "execution_count": 4,
     "metadata": {},
     "output_type": "execute_result"
    }
   ],
   "source": [
    "import sys\n",
    "sys.path"
   ]
  },
  {
   "cell_type": "code",
   "execution_count": null,
   "metadata": {
    "collapsed": true
   },
   "outputs": [],
   "source": []
  }
 ],
 "metadata": {
  "anaconda-cloud": {},
  "kernelspec": {
   "display_name": "Python [conda env:Portfolio-default]",
   "language": "python",
   "name": "conda-env-Portfolio-default-py"
  },
  "language_info": {
   "codemirror_mode": {
    "name": "ipython",
    "version": 2
   },
   "file_extension": ".py",
   "mimetype": "text/x-python",
   "name": "python",
   "nbconvert_exporter": "python",
   "pygments_lexer": "ipython2",
   "version": "2.7.13"
  }
 },
 "nbformat": 4,
 "nbformat_minor": 2
}
