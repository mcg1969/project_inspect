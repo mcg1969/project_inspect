{
 "cells": [
  {
   "cell_type": "code",
   "execution_count": 39,
   "metadata": {
    "collapsed": false
   },
   "outputs": [],
   "source": [
    "library_s = as.symbol(\"library\")\n",
    "colons_s = as.symbol(\"::\")\n",
    "walk.expr <- function(expr) {\n",
    "    print(expr)\n",
    "    if (is.symbol(expr)) {\n",
    "        result = c()\n",
    "    } else if (expr[[1]] == library_s | expr[[1]] == colons_s) {\n",
    "        result = c(toString(expr[[2]]))\n",
    "    } else if (length(expr) == 1) {\n",
    "        result = walk.expr(expr[[1]])\n",
    "    } else {\n",
    "        result = c()\n",
    "        for (i in 1:length(expr)) {\n",
    "            result = c(result, walk.expr(expr[[i]]))\n",
    "        }\n",
    "    }\n",
    "    result\n",
    "}\n",
    "find.imports <- function(file) {\n",
    "    walk.expr(parse(file=file))\n",
    "}"
   ]
  },
  {
   "cell_type": "code",
   "execution_count": 40,
   "metadata": {
    "collapsed": false
   },
   "outputs": [
    {
     "name": "stdout",
     "output_type": "stream",
     "text": [
      "expression(library(ggplot2), x = dplyr::test)\n",
      "library(ggplot2)\n",
      "x = dplyr::test\n",
      "`=`\n",
      "x\n",
      "dplyr::test\n"
     ]
    }
   ],
   "source": [
    "syms = find.imports('/projects/mgrant/Portfolio/rtest.R')"
   ]
  },
  {
   "cell_type": "code",
   "execution_count": 41,
   "metadata": {
    "collapsed": false
   },
   "outputs": [
    {
     "data": {
      "text/html": [
       "2"
      ],
      "text/latex": [
       "2"
      ],
      "text/markdown": [
       "2"
      ],
      "text/plain": [
       "[1] 2"
      ]
     },
     "metadata": {},
     "output_type": "display_data"
    }
   ],
   "source": [
    "length(syms)"
   ]
  },
  {
   "cell_type": "code",
   "execution_count": 42,
   "metadata": {
    "collapsed": false
   },
   "outputs": [
    {
     "data": {
      "text/html": [
       "'ggplot2'"
      ],
      "text/latex": [
       "'ggplot2'"
      ],
      "text/markdown": [
       "'ggplot2'"
      ],
      "text/plain": [
       "[1] \"ggplot2\""
      ]
     },
     "metadata": {},
     "output_type": "display_data"
    }
   ],
   "source": [
    "syms[[1]]"
   ]
  },
  {
   "cell_type": "code",
   "execution_count": 43,
   "metadata": {
    "collapsed": false
   },
   "outputs": [
    {
     "data": {
      "text/html": [
       "'dplyr'"
      ],
      "text/latex": [
       "'dplyr'"
      ],
      "text/markdown": [
       "'dplyr'"
      ],
      "text/plain": [
       "[1] \"dplyr\""
      ]
     },
     "metadata": {},
     "output_type": "display_data"
    }
   ],
   "source": [
    "syms[[2]]"
   ]
  },
  {
   "cell_type": "code",
   "execution_count": null,
   "metadata": {
    "collapsed": true
   },
   "outputs": [],
   "source": []
  }
 ],
 "metadata": {
  "kernelspec": {
   "display_name": "R [conda env:PackageInspect-default]",
   "language": "R",
   "name": "conda-env-PackageInspect-default-r"
  },
  "language_info": {
   "codemirror_mode": "r",
   "file_extension": ".r",
   "mimetype": "text/x-r-source",
   "name": "R",
   "pygments_lexer": "r",
   "version": "3.4.1"
  }
 },
 "nbformat": 4,
 "nbformat_minor": 2
}
